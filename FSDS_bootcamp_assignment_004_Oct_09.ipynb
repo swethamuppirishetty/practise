{
  "cells": [
    {
      "cell_type": "markdown",
      "metadata": {
        "id": "NCW2epdyuJ-a"
      },
      "source": [
        "Q1. Find the largest number from the given list, use for loop.\n",
        "\n",
        "```\n",
        "numbers = [12, 75, 150, 180, 145, 525, 50]\n",
        "```"
      ]
    },
    {
      "cell_type": "code",
      "execution_count": null,
      "metadata": {
        "colab": {
          "base_uri": "https://localhost:8080/"
        },
        "id": "JHREjl4StNEx",
        "outputId": "12a30c03-0264-42ab-b420-c8c6bc700e25"
      },
      "outputs": [
        {
          "name": "stdout",
          "output_type": "stream",
          "text": [
            "largest number is: 525 \n"
          ]
        }
      ],
      "source": [
        "numbers = [12, 75, 150, 180, 145, 525, 50]\n",
        "initial=0\n",
        "for number in numbers:\n",
        "  if number>initial:\n",
        "    initial=number\n",
        "print(f\"largest number is: {initial} \")\n"
      ]
    },
    {
      "cell_type": "markdown",
      "metadata": {
        "id": "Qsg0i1fTwEQj"
      },
      "source": [
        "Q2. Print all the even number between (1, 12)."
      ]
    },
    {
      "cell_type": "code",
      "execution_count": null,
      "metadata": {
        "colab": {
          "base_uri": "https://localhost:8080/"
        },
        "id": "FUaLpmWt0mEz",
        "outputId": "d9df7b94-0da5-478e-f0d5-5309f66289bd"
      },
      "outputs": [
        {
          "name": "stdout",
          "output_type": "stream",
          "text": [
            "2\n",
            "4\n",
            "6\n",
            "8\n",
            "10\n"
          ]
        }
      ],
      "source": [
        "for i in range(1,12):\n",
        "  if i%2==0:\n",
        "    print(i)\n"
      ]
    },
    {
      "cell_type": "markdown",
      "metadata": {
        "id": "WG2QcDDhwi4a"
      },
      "source": [
        "Q3. Calculate the sum of all numbers from 1 to a given number\n",
        "    \n",
        "    Expected Output:\n",
        "\n",
        "    Enter number 10\n",
        "    \n",
        "    Sum is:  55\n"
      ]
    },
    {
      "cell_type": "code",
      "execution_count": null,
      "metadata": {
        "colab": {
          "base_uri": "https://localhost:8080/"
        },
        "id": "QxCkr7fP1J65",
        "outputId": "01b092f7-813b-4861-9112-18184573096c"
      },
      "outputs": [
        {
          "name": "stdout",
          "output_type": "stream",
          "text": [
            "enter number: 10\n",
            "sum is: 55\n"
          ]
        }
      ],
      "source": [
        "number=int(input(\"enter number: \"))\n",
        "sum=0\n",
        "for i in range(1,number+1):\n",
        "  sum+=i\n",
        "print(f\"sum is: {sum}\")"
      ]
    },
    {
      "cell_type": "markdown",
      "metadata": {
        "id": "mc7lLUm5f4Cq"
      },
      "source": [
        "Q4. Write a program to display only those numbers from a list that satisfy the following conditions\n",
        "\n",
        "- The number must be divisible by five\n",
        "\n",
        "- If the number is greater than 150, then skip it and move to the next number\n",
        "\n",
        "- If the number is greater than 500, then stop the loop"
      ]
    },
    {
      "cell_type": "code",
      "execution_count": null,
      "metadata": {
        "colab": {
          "base_uri": "https://localhost:8080/"
        },
        "id": "P3Ct2ocKf6Hy",
        "outputId": "db2a6b49-b783-4d60-fac6-65198b71fa4a"
      },
      "outputs": [
        {
          "name": "stdout",
          "output_type": "stream",
          "text": [
            "75\n",
            "150\n",
            "145\n",
            "50\n"
          ]
        }
      ],
      "source": [
        "\n",
        "# Given:\n",
        "numbers = [12, 75, 150, 180, 145, 525, 50]\n",
        "for number in numbers:\n",
        "  if number%5==0:\n",
        "    if number>500:\n",
        "      break\n",
        "    if number>150:\n",
        "      continue\n",
        "    print(number)\n",
        "    \n",
        "      \n",
        "      "
      ]
    },
    {
      "cell_type": "markdown",
      "metadata": {
        "id": "rrxWvy7nMnAs"
      },
      "source": [
        "Q5. Print the given list in reverse order.\n",
        "\n",
        "```\n",
        "list1 = [10, 20, 30, 40, 50]\n",
        "```"
      ]
    },
    {
      "cell_type": "code",
      "execution_count": null,
      "metadata": {
        "colab": {
          "base_uri": "https://localhost:8080/"
        },
        "id": "bUETX6HA94S4",
        "outputId": "470eee03-3d95-422f-8b38-e422e8a61431"
      },
      "outputs": [
        {
          "name": "stdout",
          "output_type": "stream",
          "text": [
            "[50, 40, 30, 20, 10]\n"
          ]
        }
      ],
      "source": [
        "list1 = [10, 20, 30, 40, 50]\n",
        "list1.reverse()\n",
        "print(f\"{list1}\")"
      ]
    }
  ],
  "metadata": {
    "colab": {
      "collapsed_sections": [],
      "provenance": []
    },
    "kernelspec": {
      "display_name": "Python 3.9.12 ('base')",
      "language": "python",
      "name": "python3"
    },
    "language_info": {
      "codemirror_mode": {
        "name": "ipython",
        "version": 3
      },
      "file_extension": ".py",
      "mimetype": "text/x-python",
      "name": "python",
      "nbconvert_exporter": "python",
      "pygments_lexer": "ipython3",
      "version": "3.9.12"
    },
    "vscode": {
      "interpreter": {
        "hash": "4d09e1192033bba9526f296292156c6c8529fa0781013076c42ddd3132c2c239"
      }
    }
  },
  "nbformat": 4,
  "nbformat_minor": 0
}
