{
  "nbformat": 4,
  "nbformat_minor": 0,
  "metadata": {
    "colab": {
      "provenance": [],
      "collapsed_sections": []
    },
    "kernelspec": {
      "name": "python3",
      "display_name": "Python 3"
    },
    "language_info": {
      "name": "python"
    }
  },
  "cells": [
    {
      "cell_type": "markdown",
      "source": [
        "#1. write a function which will try to find out len of a string without using an inbuilt len function"
      ],
      "metadata": {
        "id": "NEed7DZGuj67"
      }
    },
    {
      "cell_type": "code",
      "source": [
        "def test1(str1):\n",
        "    count=0\n",
        "    for i in str1:\n",
        "      count+=1\n",
        "    print(f\"sum is: {count}\")"
      ],
      "metadata": {
        "id": "gjOJjKxruumX"
      },
      "execution_count": 14,
      "outputs": []
    },
    {
      "cell_type": "code",
      "source": [
        "test1(\"muppirishetty\")"
      ],
      "metadata": {
        "colab": {
          "base_uri": "https://localhost:8080/"
        },
        "id": "NKGUYhx6vm97",
        "outputId": "68d09a77-fff1-422f-e57b-b741c54d00ff"
      },
      "execution_count": 15,
      "outputs": [
        {
          "output_type": "stream",
          "name": "stdout",
          "text": [
            "sum is: 13\n"
          ]
        }
      ]
    },
    {
      "cell_type": "markdown",
      "source": [
        "#2. write a function which  will be able to print an index of list element without using an index function"
      ],
      "metadata": {
        "id": "WFs1GkqcwjoH"
      }
    },
    {
      "cell_type": "code",
      "source": [
        "def test2(l):\n",
        "  count=0\n",
        "  for i in l:\n",
        "    print(f\"Element is: {i} and index is: {count}\")\n",
        "    count+=1"
      ],
      "metadata": {
        "id": "-AWBNHk4wpIW"
      },
      "execution_count": 11,
      "outputs": []
    },
    {
      "cell_type": "code",
      "source": [
        "l1=['fsfda', 'fsdf', 'abc ', 456, 56]\n",
        "test2(l1)"
      ],
      "metadata": {
        "colab": {
          "base_uri": "https://localhost:8080/"
        },
        "id": "Pu_UAieNwt8J",
        "outputId": "66648971-6ae4-4c4b-c17d-704395181dc6"
      },
      "execution_count": 13,
      "outputs": [
        {
          "output_type": "stream",
          "name": "stdout",
          "text": [
            "Element is: fsfda and index is: 0\n",
            "Element is: fsdf and index is: 1\n",
            "Element is: abc  and index is: 2\n",
            "Element is: 456 and index is: 3\n",
            "Element is: 56 and index is: 4\n"
          ]
        }
      ]
    },
    {
      "cell_type": "markdown",
      "source": [
        "#3. write a function which will be able to print an ip address of your system"
      ],
      "metadata": {
        "id": "dDPzxbWXGWFo"
      }
    },
    {
      "cell_type": "code",
      "source": [
        "import socket\n",
        "def test3():\n",
        "  hostname = socket.gethostname()\n",
        "  IPAddr = socket.gethostbyname(hostname)\n",
        "  print(f\"IP Address is: {IPAddr}\")"
      ],
      "metadata": {
        "id": "3nblg5fuGVnZ"
      },
      "execution_count": 3,
      "outputs": []
    },
    {
      "cell_type": "code",
      "source": [
        "test3()"
      ],
      "metadata": {
        "colab": {
          "base_uri": "https://localhost:8080/"
        },
        "id": "cay7M6C7HkO6",
        "outputId": "fe0e0598-dd7a-4202-c85a-478d15b9c130"
      },
      "execution_count": 4,
      "outputs": [
        {
          "output_type": "stream",
          "name": "stdout",
          "text": [
            "IP Address is: 172.28.0.2\n"
          ]
        }
      ]
    },
    {
      "cell_type": "markdown",
      "source": [
        "#4. write a function which will shutdown your system"
      ],
      "metadata": {
        "id": "PIcjtl5VIAnq"
      }
    },
    {
      "cell_type": "code",
      "source": [
        "import os\n",
        "def test4():\n",
        "    shutdown = input(\"Do you wish to shutdown your computer ? (yes / no): \")\n",
        "\n",
        "    if shutdown == 'no':\n",
        "      exit()\n",
        "    else:\n",
        "      os.system(\"shutdown /s /t 1\")\n"
      ],
      "metadata": {
        "id": "Z0q9SPrNIBF7"
      },
      "execution_count": 5,
      "outputs": []
    },
    {
      "cell_type": "code",
      "source": [
        "test4()"
      ],
      "metadata": {
        "colab": {
          "base_uri": "https://localhost:8080/"
        },
        "id": "D0-nCIvTIHai",
        "outputId": "de8a51a7-8432-4c33-bfe5-a9885570f292"
      },
      "execution_count": 6,
      "outputs": [
        {
          "name": "stdout",
          "output_type": "stream",
          "text": [
            "Do you wish to shutdown your computer ? (yes / no): yes\n"
          ]
        }
      ]
    },
    {
      "cell_type": "markdown",
      "source": [
        "#5. write a function which will take input as a list with any kind of numeric value and give an out as a multiplication of \n",
        "all the numeric data."
      ],
      "metadata": {
        "id": "UE9A6Y-KKNR3"
      }
    },
    {
      "cell_type": "code",
      "source": [
        "def test5(l):\n",
        "  mul=1\n",
        "  for ele in l:\n",
        "    if type(ele)==int or type(ele)==float:\n",
        "      mul=mul*ele\n",
        "  print(f\"multiplication is: {mul}\")"
      ],
      "metadata": {
        "id": "QdA66GS2KPjO"
      },
      "execution_count": 12,
      "outputs": []
    },
    {
      "cell_type": "code",
      "source": [
        "ls=[3.5, 6.56, 4,5,\"sudh\" , \"ineuron\" , 'fsda bootcamp 2.0']\n",
        "test5(ls)"
      ],
      "metadata": {
        "colab": {
          "base_uri": "https://localhost:8080/"
        },
        "id": "aN1SVVZxKqfl",
        "outputId": "963fa007-e501-4b4c-8816-edd64b4d8839"
      },
      "execution_count": 13,
      "outputs": [
        {
          "output_type": "stream",
          "name": "stdout",
          "text": [
            "multiplication is: 459.19999999999993\n"
          ]
        }
      ]
    }
  ]
}