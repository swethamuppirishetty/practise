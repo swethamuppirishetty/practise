{
  "nbformat": 4,
  "nbformat_minor": 0,
  "metadata": {
    "colab": {
      "provenance": [],
      "collapsed_sections": []
    },
    "kernelspec": {
      "name": "python3",
      "display_name": "Python 3"
    },
    "language_info": {
      "name": "python"
    }
  },
  "cells": [
    {
      "cell_type": "markdown",
      "source": [
        "#ASSIGNMENT\n"
      ],
      "metadata": {
        "id": "X1GOBPilT6PE"
      }
    },
    {
      "cell_type": "markdown",
      "source": [
        "#1.What is indentation error? Why indentation is important? Give one simple example?\n",
        "\n",
        "--> if we miss the space or tab inside the condition then we get indentation error."
      ],
      "metadata": {
        "id": "0o3t3MrT9_SL"
      }
    },
    {
      "cell_type": "code",
      "execution_count": null,
      "metadata": {
        "id": "XumyqFp6MHnv",
        "colab": {
          "base_uri": "https://localhost:8080/",
          "height": 131
        },
        "outputId": "9470bf34-5a07-468d-89f8-bfd77b8a29fb"
      },
      "outputs": [
        {
          "output_type": "error",
          "ename": "IndentationError",
          "evalue": "ignored",
          "traceback": [
            "\u001b[0;36m  File \u001b[0;32m\"<ipython-input-2-3f110c1622af>\"\u001b[0;36m, line \u001b[0;32m4\u001b[0m\n\u001b[0;31m    print(a)\u001b[0m\n\u001b[0m        ^\u001b[0m\n\u001b[0;31mIndentationError\u001b[0m\u001b[0;31m:\u001b[0m expected an indented block\n"
          ]
        }
      ],
      "source": [
        "#example without indentation gives IndentationError\n",
        "a=10\n",
        "if(a>5):\n",
        "print(a)"
      ]
    },
    {
      "cell_type": "code",
      "source": [
        "#example with indentation \n",
        "a=10\n",
        "if(a>5):\n",
        " print(a)"
      ],
      "metadata": {
        "colab": {
          "base_uri": "https://localhost:8080/"
        },
        "id": "JDxe7Qbt_EfE",
        "outputId": "072161cb-a87f-4872-ec9a-359b61f1cea5"
      },
      "execution_count": null,
      "outputs": [
        {
          "output_type": "stream",
          "name": "stdout",
          "text": [
            "10\n"
          ]
        }
      ]
    },
    {
      "cell_type": "markdown",
      "source": [
        "#2.Correct the following code and write the comment where you made the correction?"
      ],
      "metadata": {
        "id": "ndcsSXgz_NsB"
      }
    },
    {
      "cell_type": "code",
      "source": [
        "#class_started = bool(input(\"Hey friend, is class started?: [0-False/1-True]\"))\n",
        "\n",
        "class_started = int(input(\"Hey friend, is class started?: [0-False/1-True]\"))#typecast to int not boolean\n",
        "\n",
        "if class_started:\n",
        "   print(\"Since class started...\")\n",
        "   print(\"Lets concentrate\")\n",
        "else:\n",
        "   print(\"Since class is not started...\")\n",
        "   print(\"let's revise\")    "
      ],
      "metadata": {
        "colab": {
          "base_uri": "https://localhost:8080/"
        },
        "id": "fbNp66WT_Wtb",
        "outputId": "25189539-1b76-4ba0-e419-9cbeb5a7f85a"
      },
      "execution_count": null,
      "outputs": [
        {
          "output_type": "stream",
          "name": "stdout",
          "text": [
            "Hey friend, is class started?: [0-False/1-True]0\n",
            "Since class is not started...\n",
            "let's revise\n"
          ]
        }
      ]
    },
    {
      "cell_type": "markdown",
      "source": [
        "#3.Use if else condition to verify that dataype of input() method in python is always string.\n"
      ],
      "metadata": {
        "id": "x581r_jeAhKh"
      }
    },
    {
      "cell_type": "code",
      "source": [
        "value=input(\"enter value: \")\n",
        "print(type(value))\n",
        "if type(value)==type('str'):\n",
        "  print(f\"{value} is string datatype\")\n",
        "else:\n",
        "  print(f\"{value} is not string datatype\")"
      ],
      "metadata": {
        "colab": {
          "base_uri": "https://localhost:8080/"
        },
        "id": "jYMZExwEA3Fc",
        "outputId": "fc9d28fd-afed-42f3-8ae1-cfcca30a51b6"
      },
      "execution_count": null,
      "outputs": [
        {
          "output_type": "stream",
          "name": "stdout",
          "text": [
            "enter value: swe123\n",
            "<class 'str'>\n",
            "swe123 is string datatype\n"
          ]
        }
      ]
    },
    {
      "cell_type": "markdown",
      "source": [
        "#4.Take 3 variables and assign integer values to them. Find the largest variable, by only using the if and else conditions."
      ],
      "metadata": {
        "id": "4qKjnsqoDQx7"
      }
    },
    {
      "cell_type": "code",
      "source": [
        "A=int(input(\"enter value: \"))\n",
        "B=int(input(\"enter value: \"))\n",
        "C=int(input(\"enter value: \"))\n",
        "if A>B and A>C:\n",
        "  print(f\"{A} is largest variable\")\n",
        "elif B>A and B>C:\n",
        "  print(f\"{B} is largest variable\")\n",
        "else:\n",
        "  print(f\"{C} is largest variable\")\n"
      ],
      "metadata": {
        "colab": {
          "base_uri": "https://localhost:8080/"
        },
        "id": "udXebMHZDeRc",
        "outputId": "d6e2fbe0-c404-4a35-fb85-e588ebf1ab6b"
      },
      "execution_count": null,
      "outputs": [
        {
          "output_type": "stream",
          "name": "stdout",
          "text": [
            "enter value: 20\n",
            "enter value: 30\n",
            "enter value: 10\n",
            "30 is largest variable\n"
          ]
        }
      ]
    },
    {
      "cell_type": "markdown",
      "source": [
        "#5.What would be the solution?\n",
        "\n",
        "True\n",
        "\n",
        "False"
      ],
      "metadata": {
        "id": "Zh7Q0qN_Eyrw"
      }
    },
    {
      "cell_type": "code",
      "source": [
        "a = 6\n",
        "b = 10\n",
        "print( not ( not a == 10 or not b == 10) )"
      ],
      "metadata": {
        "colab": {
          "base_uri": "https://localhost:8080/"
        },
        "id": "kQlMQlApE1zr",
        "outputId": "7781df1c-66b4-44d0-a91e-ec88fe28e811"
      },
      "execution_count": null,
      "outputs": [
        {
          "output_type": "stream",
          "name": "stdout",
          "text": [
            "False\n"
          ]
        }
      ]
    },
    {
      "cell_type": "markdown",
      "source": [
        "#6.Find the answer as well as find out the reason behind the result? -"
      ],
      "metadata": {
        "id": "Ul1Vp5sHFT3B"
      }
    },
    {
      "cell_type": "code",
      "source": [
        "#case 1:\n",
        "A = 5.0\n",
        "print(id(A))\n",
        "B = 10/2\n",
        "print(id(B))\n",
        "print(A is B)"
      ],
      "metadata": {
        "colab": {
          "base_uri": "https://localhost:8080/"
        },
        "id": "oBbfpOmcFYTw",
        "outputId": "cc606723-e9bb-4191-9c5f-f7feb85e541c"
      },
      "execution_count": null,
      "outputs": [
        {
          "output_type": "stream",
          "name": "stdout",
          "text": [
            "140069595847344\n",
            "140069741524048\n",
            "False\n"
          ]
        }
      ]
    },
    {
      "cell_type": "code",
      "source": [
        "#case 2:\n",
        "A = 5.0\n",
        "print(id(A))\n",
        "B = int(10/2)\n",
        "print(id(B))\n",
        "print(A is B)"
      ],
      "metadata": {
        "colab": {
          "base_uri": "https://localhost:8080/"
        },
        "id": "b0Ov1dIXFkTw",
        "outputId": "5e0cecd8-2cc0-41e3-88c1-5204c198438c"
      },
      "execution_count": null,
      "outputs": [
        {
          "output_type": "stream",
          "name": "stdout",
          "text": [
            "140069595845680\n",
            "11122720\n",
            "False\n"
          ]
        }
      ]
    },
    {
      "cell_type": "code",
      "source": [
        "#case 3:\n",
        "A = 5.0\n",
        "print(id(A))\n",
        "B = float(10/2)\n",
        "print(id(B))\n",
        "print(A is B)"
      ],
      "metadata": {
        "colab": {
          "base_uri": "https://localhost:8080/"
        },
        "id": "2yeNj8bgFvbr",
        "outputId": "92a8f58f-d217-4290-8976-2dd2137f61cb"
      },
      "execution_count": null,
      "outputs": [
        {
          "output_type": "stream",
          "name": "stdout",
          "text": [
            "140069741524048\n",
            "140069595846480\n",
            "False\n"
          ]
        }
      ]
    },
    {
      "cell_type": "markdown",
      "source": [
        "###7.Write a program that asks the user to enter a number. You should print out a message to the user, either “That number is divisible by either 3 or 5”, or “That number is not divisible by either 3 or 5”. Be sure to consider the data type of the input you are taking in from the user. Use a single if/else block to solve this problem."
      ],
      "metadata": {
        "id": "jJr1RAp1HpNW"
      }
    },
    {
      "cell_type": "code",
      "source": [
        "num=int(input(\"enter a number: \"))\n",
        "if num%3==0 or num%5==0:\n",
        "  print(f\"That {num} is divisible by either 3 or 5\")\n",
        "else:\n",
        "  print(f\"That {num} is not divisible by either 3 or 5\")"
      ],
      "metadata": {
        "colab": {
          "base_uri": "https://localhost:8080/"
        },
        "id": "B4w7ADwDHrb8",
        "outputId": "c5007d61-7756-4e0e-eee5-90e5db932d15"
      },
      "execution_count": null,
      "outputs": [
        {
          "output_type": "stream",
          "name": "stdout",
          "text": [
            "enter a number: 26\n",
            "That 26 is not divisible by either 3 or 5\n"
          ]
        }
      ]
    },
    {
      "cell_type": "markdown",
      "source": [
        "##8.Take user input for length and width. Then calculate the area of rectangle. Also print as per length and width whether its a square of rectangle."
      ],
      "metadata": {
        "id": "aORp5IUwIwZY"
      }
    },
    {
      "cell_type": "code",
      "source": [
        "length=int(input(\"enter a number: \"))\n",
        "breadth=int(input(\"enter a number: \"))\n",
        "area_of_rectangle=length*breadth\n",
        "if length==breadth:\n",
        "  print(\"its a square\")\n",
        "else:\n",
        "  print(\"its a rectangle\")\n",
        "\n"
      ],
      "metadata": {
        "colab": {
          "base_uri": "https://localhost:8080/"
        },
        "id": "orYSJs9KI95a",
        "outputId": "4a2ab015-961d-4f53-b7b3-eca7e25a9a06"
      },
      "execution_count": null,
      "outputs": [
        {
          "output_type": "stream",
          "name": "stdout",
          "text": [
            "enter a number: 4\n",
            "enter a number: 4\n",
            "area of rectange is: 16\n",
            "its a square\n"
          ]
        }
      ]
    },
    {
      "cell_type": "markdown",
      "source": [
        "##9.Take two variable radius_1 and radius_2 and calculate the area of circle_1 and circle_2. Also print which circle has large area. If area is equal then print area is equal."
      ],
      "metadata": {
        "id": "QdkYI-BwNqpu"
      }
    },
    {
      "cell_type": "code",
      "source": [
        "radius_1=int(input(\"enter radius of 1st circle: \"))\n",
        "radius_2=int(input(\"enter radius of 2nd circle: \"))\n",
        "area_of_circle_1 = 3.14*(radius_1**2)\n",
        "print(f\"area of circle_1: {area_of_circle_1}\")\n",
        "area_of_circle_2 = 3.14*(radius_2**2)\n",
        "print(f\"area of circle_2: {area_of_circle_2}\")\n",
        "if area_of_circle_1>area_of_circle_2:\n",
        "  print(\"circle1 has large area\")\n",
        "elif area_of_circle_2>area_of_circle_1:\n",
        "  print(\"circle2 has large area\")\n",
        "else:\n",
        "  print(\"circle1 and circle2 has large area\")\n"
      ],
      "metadata": {
        "colab": {
          "base_uri": "https://localhost:8080/"
        },
        "id": "8EiBOhpyNo-Y",
        "outputId": "277b9d6f-0b70-4415-f5ca-3a69fefbae7d"
      },
      "execution_count": null,
      "outputs": [
        {
          "output_type": "stream",
          "name": "stdout",
          "text": [
            "enter radius of 1st circle: 4\n",
            "enter radius of 2nd circle: 5\n",
            "area of circle_1: 50.24\n",
            "area of circle_2: 78.5\n",
            "circle2 has large area\n"
          ]
        }
      ]
    },
    {
      "cell_type": "markdown",
      "source": [
        "##10.Check whether a year is leap year or not. Use nested if...else to solve this problem. A leap year is exactly divisible by 4 except for century years (years ending with 00). The century year is a leap year only if it is perfectly divisible by 400."
      ],
      "metadata": {
        "id": "uCenzV4ZNyfU"
      }
    },
    {
      "cell_type": "code",
      "source": [
        "year=int(input(\"enter year: \"))\n",
        "if year%4==0 :\n",
        "  if year%100==0:\n",
        "    if year%400:\n",
        "      print(f\"{year} is a leap year\")\n",
        "    else:\n",
        "      print(f\"{year} is not a leap year\")\n",
        "  else:\n",
        "   print(f\"{year} is a leap year\")\n",
        "else:\n",
        " print(f\"{year} is not a leap year\") \n",
        "\n"
      ],
      "metadata": {
        "colab": {
          "base_uri": "https://localhost:8080/"
        },
        "id": "efr215aoQH2g",
        "outputId": "4990decb-fa2e-4db4-e92d-4293a87d757b"
      },
      "execution_count": null,
      "outputs": [
        {
          "output_type": "stream",
          "name": "stdout",
          "text": [
            "enter year: 2020\n",
            "2020 is a leap year\n"
          ]
        }
      ]
    }
  ]
}