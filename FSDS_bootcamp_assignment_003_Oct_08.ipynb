{
  "nbformat": 4,
  "nbformat_minor": 0,
  "metadata": {
    "colab": {
      "provenance": [],
      "collapsed_sections": []
    },
    "kernelspec": {
      "name": "python3",
      "display_name": "Python 3"
    },
    "language_info": {
      "name": "python"
    }
  },
  "cells": [
    {
      "cell_type": "markdown",
      "source": [
        "#ASSIGNMENT\n"
      ],
      "metadata": {
        "id": "S3PVGvl8Hp-s"
      }
    },
    {
      "cell_type": "markdown",
      "source": [
        "##1.Count the number of times iNeuron appears in the string.\n",
        "\n"
      ],
      "metadata": {
        "id": "bwvHOJif0hpV"
      }
    },
    {
      "cell_type": "code",
      "source": [
        "text = \"Welcome to iNeuron, You are a part of FSDS Bootcamp 2 in iNeuron. I hope you are enjoying the course by iNeuron\"\n",
        "text.count(\"iNeuron\")"
      ],
      "metadata": {
        "id": "KwVni9gipNi-",
        "colab": {
          "base_uri": "https://localhost:8080/"
        },
        "outputId": "001c6fb2-e313-491b-eb3d-1ec4a71b3098"
      },
      "execution_count": 3,
      "outputs": [
        {
          "output_type": "execute_result",
          "data": {
            "text/plain": [
              "3"
            ]
          },
          "metadata": {},
          "execution_count": 3
        }
      ]
    },
    {
      "cell_type": "markdown",
      "source": [
        "##2.Check if position 5 to 11 ends with the phrase iNeuron. in the string\n",
        "\n"
      ],
      "metadata": {
        "id": "qEnksCDj1ONh"
      }
    },
    {
      "cell_type": "code",
      "source": [
        "txt = \"Hello, welcome to FSDS 2.0 at iNeuron.\"\n",
        "text[5:11]"
      ],
      "metadata": {
        "colab": {
          "base_uri": "https://localhost:8080/",
          "height": 35
        },
        "id": "Jr6zxTUH1VaH",
        "outputId": "3e5b41c3-0076-4be4-96e4-25b683a07680"
      },
      "execution_count": 4,
      "outputs": [
        {
          "output_type": "execute_result",
          "data": {
            "text/plain": [
              "'me to '"
            ],
            "application/vnd.google.colaboratory.intrinsic+json": {
              "type": "string"
            }
          },
          "metadata": {},
          "execution_count": 4
        }
      ]
    },
    {
      "cell_type": "markdown",
      "source": [
        "###3.Write a program that takes your full name as input and displays the abbreviations of the first and middle names except the last name which is displayed as it is. For example, if your name is Sunny Bhaveen Chandra, then the output should be S.B.Chandra."
      ],
      "metadata": {
        "id": "WuyHlc3t262X"
      }
    },
    {
      "cell_type": "code",
      "source": [
        "fullname=input(\"enter your fullname: \")\n",
        "firstname,middlename,lastname=fullname.split(\" \")\n",
        "print(f\"output is: {firstname[0]}.{middlename[0]}.{lastname}\")"
      ],
      "metadata": {
        "colab": {
          "base_uri": "https://localhost:8080/"
        },
        "id": "bq-6zlh23CZ7",
        "outputId": "99482da2-7af1-4bca-f514-9c42ae483653"
      },
      "execution_count": 44,
      "outputs": [
        {
          "output_type": "stream",
          "name": "stdout",
          "text": [
            "enter your fullname: swetha ashok shetty\n",
            "output is: s.a.shetty\n"
          ]
        }
      ]
    },
    {
      "cell_type": "markdown",
      "source": [
        "##4.join all items in a list into a string, using a hash(#) character as separator:\n",
        "\n"
      ],
      "metadata": {
        "id": "WGFvMpQx4PEg"
      }
    },
    {
      "cell_type": "code",
      "source": [
        "LIST = [\"My\", \"name\", \"is\", \"Rishav\", \"Dash\"]\n",
        "print(f\"output is:{LIST[0]}#{LIST[1]}#{LIST[2]}#{LIST[3]}#{LIST[4]}\")"
      ],
      "metadata": {
        "colab": {
          "base_uri": "https://localhost:8080/"
        },
        "id": "ErQ1DwDU4UnS",
        "outputId": "ac7f914d-47bd-422f-95a2-7443e74e7558"
      },
      "execution_count": 10,
      "outputs": [
        {
          "output_type": "stream",
          "name": "stdout",
          "text": [
            "My#name#is#Rishav#Dash\n"
          ]
        }
      ]
    },
    {
      "cell_type": "markdown",
      "source": [
        "##5.Write example for the following string manipulation function,\n",
        "\n",
        "- isdecimal()\n",
        "- islower()\n",
        "- isupper()\n",
        "- isalpha()\n",
        "- isnumeric()"
      ],
      "metadata": {
        "id": "QTRRFXSI5Okb"
      }
    },
    {
      "cell_type": "code",
      "source": [
        "name=\"swe1234\"\n",
        "name.isdecimal()"
      ],
      "metadata": {
        "colab": {
          "base_uri": "https://localhost:8080/"
        },
        "id": "unQfk8XOHGxJ",
        "outputId": "5114467a-6488-4f43-d41e-0731991046db"
      },
      "execution_count": 40,
      "outputs": [
        {
          "output_type": "execute_result",
          "data": {
            "text/plain": [
              "False"
            ]
          },
          "metadata": {},
          "execution_count": 40
        }
      ]
    },
    {
      "cell_type": "code",
      "source": [
        "name=\"12345\"\n",
        "name.isdecimal()"
      ],
      "metadata": {
        "colab": {
          "base_uri": "https://localhost:8080/"
        },
        "id": "getSozh9HM0k",
        "outputId": "76e5dadf-07bb-49cb-f93d-130e2267276f"
      },
      "execution_count": 41,
      "outputs": [
        {
          "output_type": "execute_result",
          "data": {
            "text/plain": [
              "True"
            ]
          },
          "metadata": {},
          "execution_count": 41
        }
      ]
    },
    {
      "cell_type": "code",
      "source": [
        "name=\"sWetha\"\n",
        "name.islower()"
      ],
      "metadata": {
        "colab": {
          "base_uri": "https://localhost:8080/"
        },
        "id": "mYLKKTnoGkQB",
        "outputId": "daeeaab6-baff-4913-8943-b1149670cec3"
      },
      "execution_count": 30,
      "outputs": [
        {
          "output_type": "execute_result",
          "data": {
            "text/plain": [
              "False"
            ]
          },
          "metadata": {},
          "execution_count": 30
        }
      ]
    },
    {
      "cell_type": "code",
      "source": [
        "name=\"swetha\"\n",
        "name.islower()"
      ],
      "metadata": {
        "colab": {
          "base_uri": "https://localhost:8080/"
        },
        "id": "X23qBCA8GaEi",
        "outputId": "1e93f925-f879-428a-b9e7-ca8d663c8a58"
      },
      "execution_count": 31,
      "outputs": [
        {
          "output_type": "execute_result",
          "data": {
            "text/plain": [
              "True"
            ]
          },
          "metadata": {},
          "execution_count": 31
        }
      ]
    },
    {
      "cell_type": "code",
      "source": [
        "name=\"Swetha\"\n",
        "name.isupper()"
      ],
      "metadata": {
        "colab": {
          "base_uri": "https://localhost:8080/"
        },
        "id": "9nFS2TDEFa1V",
        "outputId": "b64fc103-b33f-4f8d-91d3-6e5306f82719"
      },
      "execution_count": 29,
      "outputs": [
        {
          "output_type": "execute_result",
          "data": {
            "text/plain": [
              "True"
            ]
          },
          "metadata": {},
          "execution_count": 29
        }
      ]
    },
    {
      "cell_type": "code",
      "source": [
        "name=\"SWETHA\"\n",
        "name.isupper()"
      ],
      "metadata": {
        "colab": {
          "base_uri": "https://localhost:8080/"
        },
        "id": "mYC_wljZGo_2",
        "outputId": "65b6bfe8-c34f-45aa-8d53-60eba4140209"
      },
      "execution_count": 33,
      "outputs": [
        {
          "output_type": "execute_result",
          "data": {
            "text/plain": [
              "True"
            ]
          },
          "metadata": {},
          "execution_count": 33
        }
      ]
    },
    {
      "cell_type": "code",
      "source": [
        "name=\"swetha122\"\n",
        "name.isalpha()"
      ],
      "metadata": {
        "colab": {
          "base_uri": "https://localhost:8080/"
        },
        "id": "HWmmt8qkG4KA",
        "outputId": "bfd1f781-388b-485e-c0b3-5870f55d2e26"
      },
      "execution_count": 37,
      "outputs": [
        {
          "output_type": "execute_result",
          "data": {
            "text/plain": [
              "False"
            ]
          },
          "metadata": {},
          "execution_count": 37
        }
      ]
    },
    {
      "cell_type": "code",
      "source": [
        "name=\"SwethA\"\n",
        "name.isalpha()"
      ],
      "metadata": {
        "colab": {
          "base_uri": "https://localhost:8080/"
        },
        "id": "XLeNJZGuGxjV",
        "outputId": "03fcbfd4-4127-481a-d9df-9440d42858a1"
      },
      "execution_count": 35,
      "outputs": [
        {
          "output_type": "execute_result",
          "data": {
            "text/plain": [
              "True"
            ]
          },
          "metadata": {},
          "execution_count": 35
        }
      ]
    },
    {
      "cell_type": "code",
      "source": [
        "name=\"1234\"\n",
        "name.isnumeric()"
      ],
      "metadata": {
        "colab": {
          "base_uri": "https://localhost:8080/"
        },
        "id": "zlfIuFznG_qS",
        "outputId": "e4ee0b83-bdf8-4606-c7ab-5295b09c63a8"
      },
      "execution_count": 38,
      "outputs": [
        {
          "output_type": "execute_result",
          "data": {
            "text/plain": [
              "True"
            ]
          },
          "metadata": {},
          "execution_count": 38
        }
      ]
    },
    {
      "cell_type": "markdown",
      "source": [
        "##6.Indian PAN card format follows the following formats -\n",
        "\n"
      ],
      "metadata": {
        "id": "dk8OVAo3BdpQ"
      }
    },
    {
      "cell_type": "code",
      "source": [
        "\n",
        "#AYEPC7894X\n",
        "#ABCDE9999Y Take user input for PAN_CARD and validate as per the above example.\n",
        "pan_number=input(\"enter pan number: \")\n",
        "if len(pan_number)==10 and pan_number.isalnum():\n",
        "  if pan_number[0:5].isalpha() and pan_number[5:9].isnumeric() and pan_number[9:].isalpha():\n",
        "    print(f\"{pan_number} is valid\")\n",
        "  else:\n",
        "     print(f\"{pan_number} is not valid\")\n",
        "else:\n",
        "     print(f\"{pan_number} is not valid\")\n",
        "\n",
        "\n"
      ],
      "metadata": {
        "colab": {
          "base_uri": "https://localhost:8080/"
        },
        "id": "i54Q3M1SBnft",
        "outputId": "520cd247-9ce0-4109-e28c-6834bed8e772"
      },
      "execution_count": 43,
      "outputs": [
        {
          "output_type": "stream",
          "name": "stdout",
          "text": [
            "enter pan number: 8YEPC7894X\n",
            "8YEPC7894X is not valid\n"
          ]
        }
      ]
    }
  ]
}